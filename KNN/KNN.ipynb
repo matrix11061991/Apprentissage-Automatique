{
 "cells": [
  {
   "cell_type": "markdown",
   "id": "fb40e1de",
   "metadata": {},
   "source": [
    "### FONCTIONNEMENT- IMPLEMENTATION DE L’ALGORITHME DES K-plus PROCHES VOISINS"
   ]
  },
  {
   "cell_type": "markdown",
   "id": "977e62f6",
   "metadata": {},
   "source": [
    "La méthode des **“*k plus proches voisins*”** fait partie des méthodes les plus simples d’apprentissage supervisé.\n",
    "C'est l’un des algorithmes utilisés dans le domaine de l’intelligence artificielle (**IA**). Il intervient dans de nombreux domaines de l’apprentissage automatique."
   ]
  },
  {
   "cell_type": "markdown",
   "id": "e014505c",
   "metadata": {},
   "source": [
    "L’apprentissage supervisé est classé en deux catégories :\n",
    "\n",
    "    1. Classification : \n",
    "        Ici, notre variable cible est constituée des catégories.\n",
    "    2. Régression : \n",
    "        Ici, notre variable cible est continue et nous essayons généralement de trouver la ligne de la courbe.\n"
   ]
  },
  {
   "cell_type": "markdown",
   "id": "8ca1e7e1",
   "metadata": {},
   "source": [
    "### Les etapes de l'algorithme des K-plus proches voisins\n",
    "Les étapes suivantes seront effectuées :\n",
    "\n",
    "    1. L’algorithme k-plus proche voisin est importé du package scikit-learn.\n",
    "    2. Créez des variables de fonctionnalité et de cible.\n",
    "    3. Divisez les données en données d’entraînement et de test.\n",
    "    4. Générez un modèle k-NN en utilisant la valeur des voisins.\n",
    "    5. Entraînez ou ajustez les données dans le modèle.\n",
    "    6. Prédire l’avenir.\n"
   ]
  },
  {
   "cell_type": "markdown",
   "id": "4ac8cf46",
   "metadata": {},
   "source": [
    "### Implementation en python"
   ]
  },
  {
   "cell_type": "code",
   "execution_count": 4,
   "id": "4488fb5a",
   "metadata": {},
   "outputs": [
    {
     "name": "stdout",
     "output_type": "stream",
     "text": [
      "[1 0 2 1 1 0 1 2 2 1 2 0 0 0 0 1 2 1 1 2 0 2 0 2 2 2 2 2 0 0]\n"
     ]
    }
   ],
   "source": [
    "# Import necessary modules\n",
    "from sklearn.neighbors import KNeighborsClassifier\n",
    "from sklearn.model_selection import train_test_split\n",
    "from sklearn.datasets import load_iris\n",
    "# Loading data\n",
    "irisData = load_iris()\n",
    "# Create feature and target arrays\n",
    "X = irisData.data\n",
    "y = irisData.target\n",
    "# Split into training and test set\n",
    "X_train, X_test, y_train, y_test = train_test_split(X, y, test_size = 0.2, random_state=42)\n",
    "knn = KNeighborsClassifier(n_neighbors=7)\n",
    "knn.fit(X_train, y_train)\n",
    "# Predict on dataset which model has not seen before\n",
    "print(knn.predict(X_test))"
   ]
  },
  {
   "cell_type": "markdown",
   "id": "d3129646",
   "metadata": {},
   "source": [
    "#### Précision, performance du modèle\n",
    "On peut décider de la bonne valeur k pour l’ensemble de données.\n",
    "Pour obtenir la valeur k exacte, nous devons tester le modèle pour chaque valeur k attendue. "
   ]
  },
  {
   "cell_type": "code",
   "execution_count": 5,
   "id": "bbd324c6",
   "metadata": {},
   "outputs": [
    {
     "name": "stdout",
     "output_type": "stream",
     "text": [
      "0.9666666666666667\n"
     ]
    }
   ],
   "source": [
    "# Import necessary modules\n",
    "from sklearn.neighbors import KNeighborsClassifier\n",
    "from sklearn.model_selection import train_test_split\n",
    "from sklearn.datasets import load_iris\n",
    "# Loading data\n",
    "irisData = load_iris()\n",
    "# Create feature and target arrays\n",
    "X = irisData.data\n",
    "y = irisData.target\n",
    "# Split into training and test set\n",
    "X_train, X_test, y_train, y_test = train_test_split(X, y, test_size = 0.2, random_state=42)\n",
    "knn = KNeighborsClassifier(n_neighbors=7)\n",
    "knn.fit(X_train, y_train)\n",
    "# Calculate the accuracy of the model\n",
    "print(knn.score(X_test, y_test))"
   ]
  },
  {
   "cell_type": "code",
   "execution_count": null,
   "id": "c398d0f2",
   "metadata": {},
   "outputs": [],
   "source": []
  }
 ],
 "metadata": {
  "kernelspec": {
   "display_name": "Python 3 (ipykernel)",
   "language": "python",
   "name": "python3"
  },
  "language_info": {
   "codemirror_mode": {
    "name": "ipython",
    "version": 3
   },
   "file_extension": ".py",
   "mimetype": "text/x-python",
   "name": "python",
   "nbconvert_exporter": "python",
   "pygments_lexer": "ipython3",
   "version": "3.10.4"
  }
 },
 "nbformat": 4,
 "nbformat_minor": 5
}
